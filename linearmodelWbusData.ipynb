{
  "cells": [
    {
      "cell_type": "markdown",
      "metadata": {
        "id": "6KQL-X7OAoc4"
      },
      "source": [
        "**Inicialization**"
      ]
    },
    {
      "cell_type": "code",
      "execution_count": 5,
      "metadata": {
        "id": "CIzCfcWPAlvw"
      },
      "outputs": [],
      "source": [
        "import pandas as pd\n",
        "import seaborn as sns\n",
        "import matplotlib.pyplot as plt\n",
        "import numpy as np"
      ]
    },
    {
      "cell_type": "markdown",
      "metadata": {
        "id": "_K5vFyXcAifs"
      },
      "source": [
        "**Upload info and concatenate data sets texto en negrita**"
      ]
    },
    {
      "cell_type": "code",
      "execution_count": 6,
      "metadata": {
        "colab": {
          "base_uri": "https://localhost:8080/",
          "height": 450
        },
        "id": "xhTBVJjEAzrB",
        "outputId": "84dc3612-669a-4f16-baf2-87eabd00e563"
      },
      "outputs": [],
      "source": [
        "d_2018 = pd.read_csv(\"Datos_Abiertos_ARESEP_Pasajeros_movilizados_2018.csv\")\n",
        "d_2019 = pd.read_csv(\"Datos_Abiertos_ARESEP_Pasajeros_movilizados_2019.csv\")\n",
        "d_2020 = pd.read_csv(\"Datos_Abiertos_ARESEP_Pasajeros_movilizados_2020.csv\")\n",
        "d_2021 = pd.read_csv(\"Datos_Abiertos_ARESEP_Pasajeros_movilizados_2021.csv\")\n",
        "dat = pd.concat([d_2018, d_2019, d_2020, d_2021])"
      ]
    },
    {
      "cell_type": "code",
      "execution_count": 7,
      "metadata": {
        "id": "-ZMzs_eTBm6F"
      },
      "outputs": [
        {
          "data": {
            "text/html": [
              "<div>\n",
              "<style scoped>\n",
              "    .dataframe tbody tr th:only-of-type {\n",
              "        vertical-align: middle;\n",
              "    }\n",
              "\n",
              "    .dataframe tbody tr th {\n",
              "        vertical-align: top;\n",
              "    }\n",
              "\n",
              "    .dataframe thead th {\n",
              "        text-align: right;\n",
              "    }\n",
              "</style>\n",
              "<table border=\"1\" class=\"dataframe\">\n",
              "  <thead>\n",
              "    <tr style=\"text-align: right;\">\n",
              "      <th></th>\n",
              "      <th>Nombre Operador</th>\n",
              "      <th>Cédula</th>\n",
              "      <th>Código Ruta</th>\n",
              "      <th>Descripción Ruta</th>\n",
              "      <th>Código Ramal</th>\n",
              "      <th>Descripción Ramal</th>\n",
              "      <th>Mes</th>\n",
              "      <th>Año</th>\n",
              "      <th>pasajeroEquivalente</th>\n",
              "      <th>pasajerosTotal</th>\n",
              "      <th>Pasajeros Adulto Mayor</th>\n",
              "      <th>Pasajeros Regulares</th>\n",
              "      <th>Carreras</th>\n",
              "      <th>Ingresos</th>\n",
              "    </tr>\n",
              "  </thead>\n",
              "  <tbody>\n",
              "    <tr>\n",
              "      <th>0</th>\n",
              "      <td>A.T.Z. ALFARO RUIZ S.A.</td>\n",
              "      <td>3-101-554030</td>\n",
              "      <td>214</td>\n",
              "      <td>SAN JOSE-ZARCERO-LAGUNA DE ALFARO RUIZ</td>\n",
              "      <td>R0581</td>\n",
              "      <td>SAN JOSE-LAGUNA DE ALFARO RUIZ</td>\n",
              "      <td>10</td>\n",
              "      <td>2018</td>\n",
              "      <td>NaN</td>\n",
              "      <td>NaN</td>\n",
              "      <td>NaN</td>\n",
              "      <td>19248.0</td>\n",
              "      <td>229.0</td>\n",
              "      <td>22871000.0</td>\n",
              "    </tr>\n",
              "    <tr>\n",
              "      <th>1</th>\n",
              "      <td>A.T.Z. ALFARO RUIZ S.A.</td>\n",
              "      <td>3-101-554030</td>\n",
              "      <td>214</td>\n",
              "      <td>SAN JOSE-ZARCERO-LAGUNA DE ALFARO RUIZ</td>\n",
              "      <td>R0581</td>\n",
              "      <td>SAN JOSE-LAGUNA DE ALFARO RUIZ</td>\n",
              "      <td>11</td>\n",
              "      <td>2018</td>\n",
              "      <td>NaN</td>\n",
              "      <td>NaN</td>\n",
              "      <td>NaN</td>\n",
              "      <td>19564.0</td>\n",
              "      <td>222.0</td>\n",
              "      <td>23244000.0</td>\n",
              "    </tr>\n",
              "    <tr>\n",
              "      <th>2</th>\n",
              "      <td>A.T.Z. ALFARO RUIZ S.A.</td>\n",
              "      <td>3-101-554030</td>\n",
              "      <td>214</td>\n",
              "      <td>SAN JOSE-ZARCERO-LAGUNA DE ALFARO RUIZ</td>\n",
              "      <td>R0581</td>\n",
              "      <td>SAN JOSE-LAGUNA DE ALFARO RUIZ</td>\n",
              "      <td>12</td>\n",
              "      <td>2018</td>\n",
              "      <td>NaN</td>\n",
              "      <td>NaN</td>\n",
              "      <td>NaN</td>\n",
              "      <td>18505.0</td>\n",
              "      <td>212.0</td>\n",
              "      <td>21989000.0</td>\n",
              "    </tr>\n",
              "    <tr>\n",
              "      <th>3</th>\n",
              "      <td>ALGONZA, S.A.</td>\n",
              "      <td>3-101-096643</td>\n",
              "      <td>542</td>\n",
              "      <td>NICOYA-NANDAYURE</td>\n",
              "      <td>R1417</td>\n",
              "      <td>NICOYA-NANDAYURE</td>\n",
              "      <td>10</td>\n",
              "      <td>2018</td>\n",
              "      <td>NaN</td>\n",
              "      <td>NaN</td>\n",
              "      <td>381.0</td>\n",
              "      <td>5725.0</td>\n",
              "      <td>105.0</td>\n",
              "      <td>5785800.0</td>\n",
              "    </tr>\n",
              "    <tr>\n",
              "      <th>4</th>\n",
              "      <td>ALGONZA, S.A.</td>\n",
              "      <td>3-101-096643</td>\n",
              "      <td>542</td>\n",
              "      <td>NICOYA-NANDAYURE</td>\n",
              "      <td>R1417</td>\n",
              "      <td>NICOYA-NANDAYURE</td>\n",
              "      <td>11</td>\n",
              "      <td>2018</td>\n",
              "      <td>NaN</td>\n",
              "      <td>NaN</td>\n",
              "      <td>355.0</td>\n",
              "      <td>6432.0</td>\n",
              "      <td>104.0</td>\n",
              "      <td>6049500.0</td>\n",
              "    </tr>\n",
              "  </tbody>\n",
              "</table>\n",
              "</div>"
            ],
            "text/plain": [
              "           Nombre Operador        Cédula Código Ruta  \\\n",
              "0  A.T.Z. ALFARO RUIZ S.A.  3-101-554030         214   \n",
              "1  A.T.Z. ALFARO RUIZ S.A.  3-101-554030         214   \n",
              "2  A.T.Z. ALFARO RUIZ S.A.  3-101-554030         214   \n",
              "3            ALGONZA, S.A.  3-101-096643         542   \n",
              "4            ALGONZA, S.A.  3-101-096643         542   \n",
              "\n",
              "                         Descripción Ruta Código Ramal  \\\n",
              "0  SAN JOSE-ZARCERO-LAGUNA DE ALFARO RUIZ        R0581   \n",
              "1  SAN JOSE-ZARCERO-LAGUNA DE ALFARO RUIZ        R0581   \n",
              "2  SAN JOSE-ZARCERO-LAGUNA DE ALFARO RUIZ        R0581   \n",
              "3                        NICOYA-NANDAYURE        R1417   \n",
              "4                        NICOYA-NANDAYURE        R1417   \n",
              "\n",
              "                Descripción Ramal  Mes   Año  pasajeroEquivalente  \\\n",
              "0  SAN JOSE-LAGUNA DE ALFARO RUIZ   10  2018                  NaN   \n",
              "1  SAN JOSE-LAGUNA DE ALFARO RUIZ   11  2018                  NaN   \n",
              "2  SAN JOSE-LAGUNA DE ALFARO RUIZ   12  2018                  NaN   \n",
              "3                NICOYA-NANDAYURE   10  2018                  NaN   \n",
              "4                NICOYA-NANDAYURE   11  2018                  NaN   \n",
              "\n",
              "   pasajerosTotal  Pasajeros Adulto Mayor  Pasajeros Regulares  Carreras  \\\n",
              "0             NaN                     NaN              19248.0     229.0   \n",
              "1             NaN                     NaN              19564.0     222.0   \n",
              "2             NaN                     NaN              18505.0     212.0   \n",
              "3             NaN                   381.0               5725.0     105.0   \n",
              "4             NaN                   355.0               6432.0     104.0   \n",
              "\n",
              "     Ingresos  \n",
              "0  22871000.0  \n",
              "1  23244000.0  \n",
              "2  21989000.0  \n",
              "3   5785800.0  \n",
              "4   6049500.0  "
            ]
          },
          "execution_count": 7,
          "metadata": {},
          "output_type": "execute_result"
        }
      ],
      "source": [
        "#check the data\n",
        "dat.head()"
      ]
    },
    {
      "cell_type": "markdown",
      "metadata": {
        "id": "0aJSjgEwF9sW"
      },
      "source": [
        "**ETL**"
      ]
    },
    {
      "cell_type": "code",
      "execution_count": 8,
      "metadata": {
        "id": "QJvfpJO8FMWI"
      },
      "outputs": [
        {
          "data": {
            "text/plain": [
              "(40330, 14)"
            ]
          },
          "execution_count": 8,
          "metadata": {},
          "output_type": "execute_result"
        }
      ],
      "source": [
        "#check the data\n",
        "dat.shape"
      ]
    },
    {
      "cell_type": "code",
      "execution_count": 9,
      "metadata": {
        "id": "VdL5lweZBx-2"
      },
      "outputs": [
        {
          "data": {
            "text/html": [
              "<div>\n",
              "<style scoped>\n",
              "    .dataframe tbody tr th:only-of-type {\n",
              "        vertical-align: middle;\n",
              "    }\n",
              "\n",
              "    .dataframe tbody tr th {\n",
              "        vertical-align: top;\n",
              "    }\n",
              "\n",
              "    .dataframe thead th {\n",
              "        text-align: right;\n",
              "    }\n",
              "</style>\n",
              "<table border=\"1\" class=\"dataframe\">\n",
              "  <thead>\n",
              "    <tr style=\"text-align: right;\">\n",
              "      <th></th>\n",
              "      <th>Mes</th>\n",
              "      <th>Año</th>\n",
              "      <th>pasajeroEquivalente</th>\n",
              "      <th>pasajerosTotal</th>\n",
              "      <th>Pasajeros Adulto Mayor</th>\n",
              "      <th>Pasajeros Regulares</th>\n",
              "      <th>Carreras</th>\n",
              "      <th>Ingresos</th>\n",
              "    </tr>\n",
              "  </thead>\n",
              "  <tbody>\n",
              "    <tr>\n",
              "      <th>count</th>\n",
              "      <td>40330.000000</td>\n",
              "      <td>40330.000000</td>\n",
              "      <td>0.0</td>\n",
              "      <td>0.0</td>\n",
              "      <td>38803.000000</td>\n",
              "      <td>39600.000000</td>\n",
              "      <td>39601.000000</td>\n",
              "      <td>3.959900e+04</td>\n",
              "    </tr>\n",
              "    <tr>\n",
              "      <th>mean</th>\n",
              "      <td>6.516018</td>\n",
              "      <td>2019.710588</td>\n",
              "      <td>NaN</td>\n",
              "      <td>NaN</td>\n",
              "      <td>2387.509729</td>\n",
              "      <td>28772.857702</td>\n",
              "      <td>626.396623</td>\n",
              "      <td>1.355717e+07</td>\n",
              "    </tr>\n",
              "    <tr>\n",
              "      <th>std</th>\n",
              "      <td>3.469066</td>\n",
              "      <td>0.916050</td>\n",
              "      <td>NaN</td>\n",
              "      <td>NaN</td>\n",
              "      <td>4893.011466</td>\n",
              "      <td>52982.253374</td>\n",
              "      <td>2232.673057</td>\n",
              "      <td>2.518134e+07</td>\n",
              "    </tr>\n",
              "    <tr>\n",
              "      <th>min</th>\n",
              "      <td>1.000000</td>\n",
              "      <td>2018.000000</td>\n",
              "      <td>NaN</td>\n",
              "      <td>NaN</td>\n",
              "      <td>1.000000</td>\n",
              "      <td>1.000000</td>\n",
              "      <td>0.500000</td>\n",
              "      <td>3.650000e+02</td>\n",
              "    </tr>\n",
              "    <tr>\n",
              "      <th>25%</th>\n",
              "      <td>3.000000</td>\n",
              "      <td>2019.000000</td>\n",
              "      <td>NaN</td>\n",
              "      <td>NaN</td>\n",
              "      <td>202.000000</td>\n",
              "      <td>2847.000000</td>\n",
              "      <td>77.500000</td>\n",
              "      <td>1.778158e+06</td>\n",
              "    </tr>\n",
              "    <tr>\n",
              "      <th>50%</th>\n",
              "      <td>7.000000</td>\n",
              "      <td>2020.000000</td>\n",
              "      <td>NaN</td>\n",
              "      <td>NaN</td>\n",
              "      <td>699.000000</td>\n",
              "      <td>8824.000000</td>\n",
              "      <td>248.000000</td>\n",
              "      <td>4.686045e+06</td>\n",
              "    </tr>\n",
              "    <tr>\n",
              "      <th>75%</th>\n",
              "      <td>10.000000</td>\n",
              "      <td>2020.000000</td>\n",
              "      <td>NaN</td>\n",
              "      <td>NaN</td>\n",
              "      <td>2490.000000</td>\n",
              "      <td>29712.250000</td>\n",
              "      <td>725.000000</td>\n",
              "      <td>1.440570e+07</td>\n",
              "    </tr>\n",
              "    <tr>\n",
              "      <th>max</th>\n",
              "      <td>12.000000</td>\n",
              "      <td>2021.000000</td>\n",
              "      <td>NaN</td>\n",
              "      <td>NaN</td>\n",
              "      <td>394800.000000</td>\n",
              "      <td>680855.000000</td>\n",
              "      <td>337712.500000</td>\n",
              "      <td>3.588369e+08</td>\n",
              "    </tr>\n",
              "  </tbody>\n",
              "</table>\n",
              "</div>"
            ],
            "text/plain": [
              "                Mes           Año  pasajeroEquivalente  pasajerosTotal  \\\n",
              "count  40330.000000  40330.000000                  0.0             0.0   \n",
              "mean       6.516018   2019.710588                  NaN             NaN   \n",
              "std        3.469066      0.916050                  NaN             NaN   \n",
              "min        1.000000   2018.000000                  NaN             NaN   \n",
              "25%        3.000000   2019.000000                  NaN             NaN   \n",
              "50%        7.000000   2020.000000                  NaN             NaN   \n",
              "75%       10.000000   2020.000000                  NaN             NaN   \n",
              "max       12.000000   2021.000000                  NaN             NaN   \n",
              "\n",
              "       Pasajeros Adulto Mayor  Pasajeros Regulares       Carreras  \\\n",
              "count            38803.000000         39600.000000   39601.000000   \n",
              "mean              2387.509729         28772.857702     626.396623   \n",
              "std               4893.011466         52982.253374    2232.673057   \n",
              "min                  1.000000             1.000000       0.500000   \n",
              "25%                202.000000          2847.000000      77.500000   \n",
              "50%                699.000000          8824.000000     248.000000   \n",
              "75%               2490.000000         29712.250000     725.000000   \n",
              "max             394800.000000        680855.000000  337712.500000   \n",
              "\n",
              "           Ingresos  \n",
              "count  3.959900e+04  \n",
              "mean   1.355717e+07  \n",
              "std    2.518134e+07  \n",
              "min    3.650000e+02  \n",
              "25%    1.778158e+06  \n",
              "50%    4.686045e+06  \n",
              "75%    1.440570e+07  \n",
              "max    3.588369e+08  "
            ]
          },
          "execution_count": 9,
          "metadata": {},
          "output_type": "execute_result"
        }
      ],
      "source": [
        "dat.describe()"
      ]
    },
    {
      "cell_type": "code",
      "execution_count": 10,
      "metadata": {
        "id": "Ea-hH8AIB9xG"
      },
      "outputs": [
        {
          "data": {
            "text/plain": [
              "Index(['Nombre Operador', 'Cédula', 'Código Ruta', 'Descripción Ruta',\n",
              "       'Código Ramal', 'Descripción Ramal', 'Mes', 'Año',\n",
              "       'pasajeroEquivalente', 'pasajerosTotal', 'Pasajeros Adulto Mayor',\n",
              "       'Pasajeros Regulares', 'Carreras', 'Ingresos'],\n",
              "      dtype='object')"
            ]
          },
          "execution_count": 10,
          "metadata": {},
          "output_type": "execute_result"
        }
      ],
      "source": [
        "dat.columns"
      ]
    },
    {
      "cell_type": "code",
      "execution_count": 11,
      "metadata": {
        "id": "jvFFRUuWCw0n"
      },
      "outputs": [
        {
          "data": {
            "text/plain": [
              "array([False, False, False, False, False, False,  True,  True,  True,\n",
              "        True,  True,  True,  True,  True])"
            ]
          },
          "execution_count": 11,
          "metadata": {},
          "output_type": "execute_result"
        }
      ],
      "source": [
        "#check the categorical data\n",
        "(dat.dtypes != \"category\").values & (dat.dtypes != \"object\").values "
      ]
    },
    {
      "cell_type": "code",
      "execution_count": 12,
      "metadata": {
        "id": "m-3lvjaAD2FC"
      },
      "outputs": [
        {
          "data": {
            "text/plain": [
              "2019    13994\n",
              "2020    13562\n",
              "2021     9290\n",
              "2018     3484\n",
              "Name: Año, dtype: int64"
            ]
          },
          "execution_count": 12,
          "metadata": {},
          "output_type": "execute_result"
        }
      ],
      "source": [
        "dat.Año.value_counts()"
      ]
    },
    {
      "cell_type": "code",
      "execution_count": 13,
      "metadata": {
        "id": "UIgu7oR-EtLr"
      },
      "outputs": [
        {
          "data": {
            "text/plain": [
              "Nombre Operador               0\n",
              "Cédula                        0\n",
              "Código Ruta                   0\n",
              "Descripción Ruta              0\n",
              "Código Ramal                  4\n",
              "Descripción Ramal           987\n",
              "Mes                           0\n",
              "Año                           0\n",
              "pasajeroEquivalente       40330\n",
              "pasajerosTotal            40330\n",
              "Pasajeros Adulto Mayor     1527\n",
              "Pasajeros Regulares         730\n",
              "Carreras                    729\n",
              "Ingresos                    731\n",
              "dtype: int64"
            ]
          },
          "execution_count": 13,
          "metadata": {},
          "output_type": "execute_result"
        }
      ],
      "source": [
        "#sum the missing data\n",
        "dat.isna().sum()"
      ]
    },
    {
      "cell_type": "code",
      "execution_count": 14,
      "metadata": {
        "id": "U2RoPQYeFfMt"
      },
      "outputs": [],
      "source": [
        "#check the missing data drop it\n",
        "dat = dat.drop([\"Descripción Ramal\",\"pasajeroEquivalente\",\"pasajerosTotal\",\"Pasajeros Adulto Mayor\"], axis = 1)"
      ]
    },
    {
      "cell_type": "code",
      "execution_count": 15,
      "metadata": {
        "id": "7sDKdePs04vk"
      },
      "outputs": [
        {
          "data": {
            "text/plain": [
              "Nombre Operador          0\n",
              "Cédula                   0\n",
              "Código Ruta              0\n",
              "Descripción Ruta         0\n",
              "Código Ramal             4\n",
              "Mes                      0\n",
              "Año                      0\n",
              "Pasajeros Regulares    730\n",
              "Carreras               729\n",
              "Ingresos               731\n",
              "dtype: int64"
            ]
          },
          "execution_count": 15,
          "metadata": {},
          "output_type": "execute_result"
        }
      ],
      "source": [
        "dat.isna().sum()"
      ]
    },
    {
      "cell_type": "code",
      "execution_count": 16,
      "metadata": {
        "id": "eeKfHSLR09vz"
      },
      "outputs": [],
      "source": [
        "dat = dat.fillna(0)"
      ]
    },
    {
      "cell_type": "code",
      "execution_count": 17,
      "metadata": {
        "id": "ISu27nq21lJG"
      },
      "outputs": [
        {
          "data": {
            "text/plain": [
              "Nombre Operador        0\n",
              "Cédula                 0\n",
              "Código Ruta            0\n",
              "Descripción Ruta       0\n",
              "Código Ramal           0\n",
              "Mes                    0\n",
              "Año                    0\n",
              "Pasajeros Regulares    0\n",
              "Carreras               0\n",
              "Ingresos               0\n",
              "dtype: int64"
            ]
          },
          "execution_count": 17,
          "metadata": {},
          "output_type": "execute_result"
        }
      ],
      "source": [
        "dat.isna().sum()"
      ]
    },
    {
      "cell_type": "code",
      "execution_count": 18,
      "metadata": {
        "id": "rTCFPhGJ2BbE"
      },
      "outputs": [
        {
          "data": {
            "text/plain": [
              "(40330, 10)"
            ]
          },
          "execution_count": 18,
          "metadata": {},
          "output_type": "execute_result"
        }
      ],
      "source": [
        "dat.shape"
      ]
    },
    {
      "cell_type": "code",
      "execution_count": 19,
      "metadata": {
        "id": "EQsNJKyg2KjB"
      },
      "outputs": [
        {
          "data": {
            "text/plain": [
              "Nombre Operador         object\n",
              "Cédula                  object\n",
              "Código Ruta             object\n",
              "Descripción Ruta        object\n",
              "Código Ramal            object\n",
              "Mes                      int64\n",
              "Año                      int64\n",
              "Pasajeros Regulares    float64\n",
              "Carreras               float64\n",
              "Ingresos               float64\n",
              "dtype: object"
            ]
          },
          "execution_count": 19,
          "metadata": {},
          "output_type": "execute_result"
        }
      ],
      "source": [
        "dat.dtypes"
      ]
    },
    {
      "cell_type": "markdown",
      "metadata": {
        "id": "KQehzRea4nc_"
      },
      "source": [
        "**Cantidad de registros por cada año**"
      ]
    },
    {
      "cell_type": "code",
      "execution_count": 20,
      "metadata": {
        "id": "3H6YrOBi2uKM"
      },
      "outputs": [
        {
          "name": "stderr",
          "output_type": "stream",
          "text": [
            "/Users/roger/opt/anaconda3/lib/python3.8/site-packages/seaborn/_decorators.py:36: FutureWarning: Pass the following variable as a keyword arg: x. From version 0.12, the only valid positional argument will be `data`, and passing other arguments without an explicit keyword will result in an error or misinterpretation.\n",
            "  warnings.warn(\n"
          ]
        },
        {
          "data": {
            "text/plain": [
              "<AxesSubplot:xlabel='Año', ylabel='count'>"
            ]
          },
          "execution_count": 20,
          "metadata": {},
          "output_type": "execute_result"
        },
        {
          "data": {
            "image/png": "[encoded data removed]",
            "text/plain": [
              "<Figure size 432x288 with 1 Axes>"
            ]
          },
          "metadata": {
            "needs_background": "light"
          },
          "output_type": "display_data"
        }
      ],
      "source": [
        "sns.countplot(dat[\"Año\"])"
      ]
    },
    {
      "cell_type": "markdown",
      "metadata": {
        "id": "m0_8vlQg4zk3"
      },
      "source": [
        "**Sumatoria total de pasajeros, carreras e ingresos por servicios públicos (autobus) por cada año**"
      ]
    },
    {
      "cell_type": "code",
      "execution_count": 21,
      "metadata": {
        "id": "sSGgGKpj24il"
      },
      "outputs": [
        {
          "data": {
            "text/html": [
              "<div>\n",
              "<style scoped>\n",
              "    .dataframe tbody tr th:only-of-type {\n",
              "        vertical-align: middle;\n",
              "    }\n",
              "\n",
              "    .dataframe tbody tr th {\n",
              "        vertical-align: top;\n",
              "    }\n",
              "\n",
              "    .dataframe thead th {\n",
              "        text-align: right;\n",
              "    }\n",
              "</style>\n",
              "<table border=\"1\" class=\"dataframe\">\n",
              "  <thead>\n",
              "    <tr style=\"text-align: right;\">\n",
              "      <th></th>\n",
              "      <th>Año</th>\n",
              "      <th>Mes</th>\n",
              "      <th>Pasajeros Regulares</th>\n",
              "      <th>Carreras</th>\n",
              "      <th>Ingresos</th>\n",
              "    </tr>\n",
              "  </thead>\n",
              "  <tbody>\n",
              "    <tr>\n",
              "      <th>0</th>\n",
              "      <td>2018</td>\n",
              "      <td>38332</td>\n",
              "      <td>133268458.0</td>\n",
              "      <td>2963809.38</td>\n",
              "      <td>6.140553e+10</td>\n",
              "    </tr>\n",
              "    <tr>\n",
              "      <th>1</th>\n",
              "      <td>2019</td>\n",
              "      <td>90887</td>\n",
              "      <td>513825513.0</td>\n",
              "      <td>10009865.30</td>\n",
              "      <td>2.414566e+11</td>\n",
              "    </tr>\n",
              "    <tr>\n",
              "      <th>2</th>\n",
              "      <td>2020</td>\n",
              "      <td>86973</td>\n",
              "      <td>284098407.0</td>\n",
              "      <td>7016804.00</td>\n",
              "      <td>1.318692e+11</td>\n",
              "    </tr>\n",
              "    <tr>\n",
              "      <th>3</th>\n",
              "      <td>2021</td>\n",
              "      <td>46599</td>\n",
              "      <td>208212787.0</td>\n",
              "      <td>4815454.00</td>\n",
              "      <td>1.021192e+11</td>\n",
              "    </tr>\n",
              "  </tbody>\n",
              "</table>\n",
              "</div>"
            ],
            "text/plain": [
              "    Año    Mes  Pasajeros Regulares     Carreras      Ingresos\n",
              "0  2018  38332          133268458.0   2963809.38  6.140553e+10\n",
              "1  2019  90887          513825513.0  10009865.30  2.414566e+11\n",
              "2  2020  86973          284098407.0   7016804.00  1.318692e+11\n",
              "3  2021  46599          208212787.0   4815454.00  1.021192e+11"
            ]
          },
          "execution_count": 21,
          "metadata": {},
          "output_type": "execute_result"
        }
      ],
      "source": [
        "rev_year = dat.groupby(by = [\"Año\"]).sum() \n",
        "rev_year.reset_index(inplace=True) \n",
        "rev_year"
      ]
    },
    {
      "cell_type": "markdown",
      "metadata": {
        "id": "mOnyWyzHDrt5"
      },
      "source": [
        "***Notas para el EDA y predicción***"
      ]
    },
    {
      "cell_type": "markdown",
      "metadata": {
        "id": "9SBIuAr7Faed"
      },
      "source": [
        "1- Pasajeros regulares es la cantidad total de pasajeros que pagaron su pasaje, se eliminó el datos de los adultos mayores pues no es tan relevante con respecto al análisis propio que se está haciendo, pues la masa que buscamos predecir esta concentrada en la población activa (niños que van a estudiar y adultos que van a trabajar)."
      ]
    },
    {
      "cell_type": "markdown",
      "metadata": {
        "id": "RSgML6X0Fawk"
      },
      "source": [
        "2- Las carreras corresponden a la cantidad de viajes realizados por los autobuses en sus correspondientes recorridos, la información es mensual y corresponde a la sumatoria de todas las carreras realizadas por cada empresa en cada uno de los respectivos ramales (rutas) que atiende."
      ]
    },
    {
      "cell_type": "markdown",
      "metadata": {
        "id": "sUpWg0xXFbAa"
      },
      "source": [
        "3- Nuestra línea base serán los ingresos obtenidos en el año 2019 y la predicción debe indicarnos cuando se retomará esa línea base tomando en cuenta que ya hay mayor apertura para salir y que el año 2022 (si no hay otra ola de Covid 19) se retomarán normalmente las actividades de educación y laborales."
      ]
    },
    {
      "cell_type": "markdown",
      "metadata": {
        "id": "ODZ1WhSeGKg5"
      },
      "source": [
        "4- Como se puede apreciar en el gráfico, el año 2018 no tiene una cantidad de datos consistente con el resto de los años, esto pues el proceso de recolección de información inició a mediados de ese año de manera voluntaria y a partir de diciembre del mismo año ya fue obligatorio el envío de la información denominada \"Estadísticas Mensuales\" a la Aresep."
      ]
    },
    {
      "cell_type": "markdown",
      "metadata": {
        "id": "Oju_bLm4F0QT"
      },
      "source": [
        "**EDA**"
      ]
    },
    {
      "cell_type": "code",
      "execution_count": 22,
      "metadata": {
        "executionInfo": {
          "elapsed": 16,
          "status": "aborted",
          "timestamp": 1637341480112,
          "user": {
            "displayName": "Alejandro Rodriguez",
            "photoUrl": "https://lh3.googleusercontent.com/a-/AOh14GgpCggOVgv5Z3OakbPmq2id5ThFm1YNsgyq1js-LxQ=s64",
            "userId": "10910929408383226908"
          },
          "user_tz": 360
        },
        "id": "lw23JiEvF4Pq",
        "scrolled": true
      },
      "outputs": [
        {
          "data": {
            "text/html": [
              "<div>\n",
              "<style scoped>\n",
              "    .dataframe tbody tr th:only-of-type {\n",
              "        vertical-align: middle;\n",
              "    }\n",
              "\n",
              "    .dataframe tbody tr th {\n",
              "        vertical-align: top;\n",
              "    }\n",
              "\n",
              "    .dataframe thead th {\n",
              "        text-align: right;\n",
              "    }\n",
              "</style>\n",
              "<table border=\"1\" class=\"dataframe\">\n",
              "  <thead>\n",
              "    <tr style=\"text-align: right;\">\n",
              "      <th></th>\n",
              "      <th>Año</th>\n",
              "      <th>Mes</th>\n",
              "      <th>Pasajeros Regulares</th>\n",
              "      <th>Carreras</th>\n",
              "      <th>Ingresos</th>\n",
              "    </tr>\n",
              "  </thead>\n",
              "  <tbody>\n",
              "    <tr>\n",
              "      <th>0</th>\n",
              "      <td>2018</td>\n",
              "      <td>10</td>\n",
              "      <td>44859810.0</td>\n",
              "      <td>1275849.95</td>\n",
              "      <td>2.006380e+10</td>\n",
              "    </tr>\n",
              "    <tr>\n",
              "      <th>1</th>\n",
              "      <td>2018</td>\n",
              "      <td>11</td>\n",
              "      <td>44605604.0</td>\n",
              "      <td>850921.25</td>\n",
              "      <td>2.033067e+10</td>\n",
              "    </tr>\n",
              "    <tr>\n",
              "      <th>2</th>\n",
              "      <td>2018</td>\n",
              "      <td>12</td>\n",
              "      <td>43803044.0</td>\n",
              "      <td>837038.18</td>\n",
              "      <td>2.101106e+10</td>\n",
              "    </tr>\n",
              "    <tr>\n",
              "      <th>3</th>\n",
              "      <td>2019</td>\n",
              "      <td>1</td>\n",
              "      <td>43089294.0</td>\n",
              "      <td>859978.35</td>\n",
              "      <td>2.060150e+10</td>\n",
              "    </tr>\n",
              "    <tr>\n",
              "      <th>4</th>\n",
              "      <td>2019</td>\n",
              "      <td>2</td>\n",
              "      <td>42692522.0</td>\n",
              "      <td>805859.45</td>\n",
              "      <td>1.957121e+10</td>\n",
              "    </tr>\n",
              "  </tbody>\n",
              "</table>\n",
              "</div>"
            ],
            "text/plain": [
              "    Año  Mes  Pasajeros Regulares    Carreras      Ingresos\n",
              "0  2018   10           44859810.0  1275849.95  2.006380e+10\n",
              "1  2018   11           44605604.0   850921.25  2.033067e+10\n",
              "2  2018   12           43803044.0   837038.18  2.101106e+10\n",
              "3  2019    1           43089294.0   859978.35  2.060150e+10\n",
              "4  2019    2           42692522.0   805859.45  1.957121e+10"
            ]
          },
          "execution_count": 22,
          "metadata": {},
          "output_type": "execute_result"
        }
      ],
      "source": [
        "# Data grouped by year and month\n",
        "rev_month = dat.groupby(by = [\"Año\",\"Mes\"]).sum() \n",
        "rev_month.reset_index(inplace=True) \n",
        "rev_month.head()"
      ]
    },
    {
      "cell_type": "code",
      "execution_count": 23,
      "metadata": {
        "scrolled": true
      },
      "outputs": [
        {
          "data": {
            "text/html": [
              "<div>\n",
              "<style scoped>\n",
              "    .dataframe tbody tr th:only-of-type {\n",
              "        vertical-align: middle;\n",
              "    }\n",
              "\n",
              "    .dataframe tbody tr th {\n",
              "        vertical-align: top;\n",
              "    }\n",
              "\n",
              "    .dataframe thead th {\n",
              "        text-align: right;\n",
              "    }\n",
              "</style>\n",
              "<table border=\"1\" class=\"dataframe\">\n",
              "  <thead>\n",
              "    <tr style=\"text-align: right;\">\n",
              "      <th></th>\n",
              "      <th>Pasajeros Regulares</th>\n",
              "      <th>Carreras</th>\n",
              "      <th>Ingresos</th>\n",
              "    </tr>\n",
              "  </thead>\n",
              "  <tbody>\n",
              "    <tr>\n",
              "      <th>2018-10-31</th>\n",
              "      <td>44859810.0</td>\n",
              "      <td>1275849.95</td>\n",
              "      <td>2.006380e+10</td>\n",
              "    </tr>\n",
              "    <tr>\n",
              "      <th>2018-11-30</th>\n",
              "      <td>44605604.0</td>\n",
              "      <td>850921.25</td>\n",
              "      <td>2.033067e+10</td>\n",
              "    </tr>\n",
              "    <tr>\n",
              "      <th>2018-12-31</th>\n",
              "      <td>43803044.0</td>\n",
              "      <td>837038.18</td>\n",
              "      <td>2.101106e+10</td>\n",
              "    </tr>\n",
              "    <tr>\n",
              "      <th>2019-01-31</th>\n",
              "      <td>43089294.0</td>\n",
              "      <td>859978.35</td>\n",
              "      <td>2.060150e+10</td>\n",
              "    </tr>\n",
              "    <tr>\n",
              "      <th>2019-02-28</th>\n",
              "      <td>42692522.0</td>\n",
              "      <td>805859.45</td>\n",
              "      <td>1.957121e+10</td>\n",
              "    </tr>\n",
              "  </tbody>\n",
              "</table>\n",
              "</div>"
            ],
            "text/plain": [
              "            Pasajeros Regulares    Carreras      Ingresos\n",
              "2018-10-31           44859810.0  1275849.95  2.006380e+10\n",
              "2018-11-30           44605604.0   850921.25  2.033067e+10\n",
              "2018-12-31           43803044.0   837038.18  2.101106e+10\n",
              "2019-01-31           43089294.0   859978.35  2.060150e+10\n",
              "2019-02-28           42692522.0   805859.45  1.957121e+10"
            ]
          },
          "execution_count": 23,
          "metadata": {},
          "output_type": "execute_result"
        }
      ],
      "source": [
        "# get date from the columns with the year and month and set it as index\n",
        "rev_date = rev_month.drop(['Año','Mes'], axis=1) \n",
        "rev_date.index = pd.date_range('10-2018', '11-2021', freq='M') # get dates between 10-2018 and 11-2021\n",
        "rev_date.head()"
      ]
    },
    {
      "cell_type": "code",
      "execution_count": 24,
      "metadata": {},
      "outputs": [
        {
          "data": {
            "image/png": "[encoded data removed]",
            "text/plain": [
              "<Figure size 720x432 with 1 Axes>"
            ]
          },
          "metadata": {
            "needs_background": "light"
          },
          "output_type": "display_data"
        }
      ],
      "source": [
        "# Temporal series of the total bus trips per month\n",
        "fig = plt.gcf()\n",
        "fig.set_size_inches( 10, 6)\n",
        "g = sns.lineplot(data=rev_date['Carreras'], linewidth=2.5)\n",
        "g.set(xlabel='Date', ylabel='Count')\n",
        "plt.show()"
      ]
    },
    {
      "cell_type": "code",
      "execution_count": 25,
      "metadata": {},
      "outputs": [
        {
          "data": {
            "image/png": "[encoded data removed]",
            "text/plain": [
              "<Figure size 720x432 with 1 Axes>"
            ]
          },
          "metadata": {
            "needs_background": "light"
          },
          "output_type": "display_data"
        }
      ],
      "source": [
        "# Temporal series of the total passengers per month\n",
        "fig = plt.gcf()\n",
        "fig.set_size_inches( 10, 6)\n",
        "g = sns.lineplot(data=rev_date['Pasajeros Regulares'], linewidth=2.5)\n",
        "g.set(xlabel='Date', ylabel='Count')\n",
        "plt.show()"
      ]
    },
    {
      "cell_type": "code",
      "execution_count": 26,
      "metadata": {},
      "outputs": [
        {
          "data": {
            "image/png": "[encoded data removed]",
            "text/plain": [
              "<Figure size 720x432 with 1 Axes>"
            ]
          },
          "metadata": {
            "needs_background": "light"
          },
          "output_type": "display_data"
        }
      ],
      "source": [
        "# Temporal series of the total income per month\n",
        "fig = plt.gcf()\n",
        "fig.set_size_inches( 10, 6)\n",
        "g = sns.lineplot(data=rev_date['Ingresos'], linewidth=2.5)\n",
        "g.set(xlabel='Date', ylabel='Count')\n",
        "plt.show()"
      ]
    },
    {
      "cell_type": "code",
      "execution_count": 27,
      "metadata": {},
      "outputs": [
        {
          "data": {
            "image/png": "[encoded data removed]",
            "text/plain": [
              "<Figure size 720x432 with 1 Axes>"
            ]
          },
          "metadata": {
            "needs_background": "light"
          },
          "output_type": "display_data"
        }
      ],
      "source": [
        "# Temporal series of the total bus trips per month and year\n",
        "fig = plt.gcf()\n",
        "fig.set_size_inches( 10, 6)\n",
        "g = sns.lineplot(data=rev_month, x=\"Mes\", y=\"Carreras\", hue=\"Año\", linewidth=2.5)\n",
        "g.set(xlabel='Month', ylabel='Count')\n",
        "plt.show()"
      ]
    },
    {
      "cell_type": "code",
      "execution_count": 28,
      "metadata": {},
      "outputs": [
        {
          "data": {
            "image/png": "[encoded data removed]",
            "text/plain": [
              "<Figure size 720x432 with 1 Axes>"
            ]
          },
          "metadata": {
            "needs_background": "light"
          },
          "output_type": "display_data"
        }
      ],
      "source": [
        "# Temporal series of the total passengers per month and year\n",
        "fig = plt.gcf()\n",
        "fig.set_size_inches( 10, 6)\n",
        "g = sns.lineplot(data=rev_month, x=\"Mes\", y=\"Pasajeros Regulares\", hue=\"Año\", linewidth=2.5)\n",
        "g.set(xlabel='Month', ylabel='Count')\n",
        "plt.show()"
      ]
    },
    {
      "cell_type": "code",
      "execution_count": 29,
      "metadata": {},
      "outputs": [
        {
          "data": {
            "image/png": "[encoded data removed]",
            "text/plain": [
              "<Figure size 720x432 with 1 Axes>"
            ]
          },
          "metadata": {
            "needs_background": "light"
          },
          "output_type": "display_data"
        }
      ],
      "source": [
        "# Temporal series of the income trips per month and year\n",
        "fig = plt.gcf()\n",
        "fig.set_size_inches( 10, 6)\n",
        "g = sns.lineplot(data=rev_month, x=\"Mes\", y=\"Ingresos\", hue=\"Año\", linewidth=2.5)\n",
        "g.set(xlabel='Month', ylabel='Count')\n",
        "plt.show()"
      ]
    },
    {
      "cell_type": "code",
      "execution_count": 30,
      "metadata": {},
      "outputs": [
        {
          "data": {
            "image/png": "[encoded data removed]",
            "text/plain": [
              "<Figure size 432x432 with 1 Axes>"
            ]
          },
          "metadata": {
            "needs_background": "light"
          },
          "output_type": "display_data"
        }
      ],
      "source": [
        "# Count of the total bus trips per month\n",
        "g = sns.catplot(\n",
        "    data=rev_month, kind=\"bar\",\n",
        "    x=\"Mes\", y=\"Carreras\", ci=\"sd\", # ci=“sd” ---> draw the standard deviation of the observations\n",
        "    palette=\"dark\", alpha=.6, height=6\n",
        ")\n",
        "g.set_axis_labels(\"Month\", \"Count\")\n",
        "plt.show()"
      ]
    },
    {
      "cell_type": "code",
      "execution_count": 31,
      "metadata": {},
      "outputs": [
        {
          "data": {
            "image/png": "[encoded data removed]",
            "text/plain": [
              "<Figure size 432x432 with 1 Axes>"
            ]
          },
          "metadata": {
            "needs_background": "light"
          },
          "output_type": "display_data"
        }
      ],
      "source": [
        "# Count of the total passengers per month\n",
        "g = sns.catplot(\n",
        "    data=rev_month, kind=\"bar\",\n",
        "    x=\"Mes\", y=\"Pasajeros Regulares\", ci=\"sd\", # ci=“sd” ---> draw the standard deviation of the observations\n",
        "    palette=\"dark\", alpha=.6, height=6\n",
        ")\n",
        "g.set_axis_labels(\"Month\", \"Count\")\n",
        "plt.show()"
      ]
    },
    {
      "cell_type": "code",
      "execution_count": 32,
      "metadata": {},
      "outputs": [
        {
          "data": {
            "text/html": [
              "<div>\n",
              "<style scoped>\n",
              "    .dataframe tbody tr th:only-of-type {\n",
              "        vertical-align: middle;\n",
              "    }\n",
              "\n",
              "    .dataframe tbody tr th {\n",
              "        vertical-align: top;\n",
              "    }\n",
              "\n",
              "    .dataframe thead th {\n",
              "        text-align: right;\n",
              "    }\n",
              "</style>\n",
              "<table border=\"1\" class=\"dataframe\">\n",
              "  <thead>\n",
              "    <tr style=\"text-align: right;\">\n",
              "      <th></th>\n",
              "      <th>Pasajeros Regulares</th>\n",
              "      <th>Carreras</th>\n",
              "      <th>Ingresos</th>\n",
              "    </tr>\n",
              "  </thead>\n",
              "  <tbody>\n",
              "    <tr>\n",
              "      <th>2018-10-31</th>\n",
              "      <td>44859810.0</td>\n",
              "      <td>1275849.95</td>\n",
              "      <td>2.006380e+10</td>\n",
              "    </tr>\n",
              "    <tr>\n",
              "      <th>2018-11-30</th>\n",
              "      <td>44605604.0</td>\n",
              "      <td>850921.25</td>\n",
              "      <td>2.033067e+10</td>\n",
              "    </tr>\n",
              "    <tr>\n",
              "      <th>2018-12-31</th>\n",
              "      <td>43803044.0</td>\n",
              "      <td>837038.18</td>\n",
              "      <td>2.101106e+10</td>\n",
              "    </tr>\n",
              "    <tr>\n",
              "      <th>2019-01-31</th>\n",
              "      <td>43089294.0</td>\n",
              "      <td>859978.35</td>\n",
              "      <td>2.060150e+10</td>\n",
              "    </tr>\n",
              "    <tr>\n",
              "      <th>2019-02-28</th>\n",
              "      <td>42692522.0</td>\n",
              "      <td>805859.45</td>\n",
              "      <td>1.957121e+10</td>\n",
              "    </tr>\n",
              "  </tbody>\n",
              "</table>\n",
              "</div>"
            ],
            "text/plain": [
              "            Pasajeros Regulares    Carreras      Ingresos\n",
              "2018-10-31           44859810.0  1275849.95  2.006380e+10\n",
              "2018-11-30           44605604.0   850921.25  2.033067e+10\n",
              "2018-12-31           43803044.0   837038.18  2.101106e+10\n",
              "2019-01-31           43089294.0   859978.35  2.060150e+10\n",
              "2019-02-28           42692522.0   805859.45  1.957121e+10"
            ]
          },
          "execution_count": 32,
          "metadata": {},
          "output_type": "execute_result"
        }
      ],
      "source": [
        "rev_date.head()"
      ]
    },
    {
      "cell_type": "code",
      "execution_count": 33,
      "metadata": {},
      "outputs": [],
      "source": [
        "correlation = rev_date.corr() # correlation matrix to understand the relationship between the variables"
      ]
    },
    {
      "cell_type": "code",
      "execution_count": 34,
      "metadata": {},
      "outputs": [
        {
          "data": {
            "text/plain": [
              "<AxesSubplot:>"
            ]
          },
          "execution_count": 34,
          "metadata": {},
          "output_type": "execute_result"
        },
        {
          "data": {
            "image/png": "[encoded data removed]",
            "text/plain": [
              "<Figure size 720x720 with 2 Axes>"
            ]
          },
          "metadata": {
            "needs_background": "light"
          },
          "output_type": "display_data"
        }
      ],
      "source": [
        "# constructing a heatmap to understand the correlation\n",
        "# Weak Correlation --> below 0.5 \n",
        "# Correlation --> 0.5 - 0.7\n",
        "# Strong Correlation --> more than 0.7\n",
        "plt.figure(figsize=(10,10))\n",
        "sns.heatmap(correlation, cbar=True, square=True, fmt='.1f', annot=True, annot_kws={'size':8}, cmap='GnBu')"
      ]
    },
    {
      "cell_type": "code",
      "execution_count": 35,
      "metadata": {},
      "outputs": [
        {
          "data": {
            "text/html": [
              "<div>\n",
              "<style scoped>\n",
              "    .dataframe tbody tr th:only-of-type {\n",
              "        vertical-align: middle;\n",
              "    }\n",
              "\n",
              "    .dataframe tbody tr th {\n",
              "        vertical-align: top;\n",
              "    }\n",
              "\n",
              "    .dataframe thead th {\n",
              "        text-align: right;\n",
              "    }\n",
              "</style>\n",
              "<table border=\"1\" class=\"dataframe\">\n",
              "  <thead>\n",
              "    <tr style=\"text-align: right;\">\n",
              "      <th></th>\n",
              "      <th>FECHA</th>\n",
              "      <th>positivos</th>\n",
              "    </tr>\n",
              "  </thead>\n",
              "  <tbody>\n",
              "    <tr>\n",
              "      <th>0</th>\n",
              "      <td>2020-03-06</td>\n",
              "      <td>2</td>\n",
              "    </tr>\n",
              "    <tr>\n",
              "      <th>1</th>\n",
              "      <td>2020-03-07</td>\n",
              "      <td>7</td>\n",
              "    </tr>\n",
              "    <tr>\n",
              "      <th>2</th>\n",
              "      <td>2020-03-08</td>\n",
              "      <td>10</td>\n",
              "    </tr>\n",
              "    <tr>\n",
              "      <th>3</th>\n",
              "      <td>2020-03-09</td>\n",
              "      <td>12</td>\n",
              "    </tr>\n",
              "    <tr>\n",
              "      <th>4</th>\n",
              "      <td>2020-03-10</td>\n",
              "      <td>13</td>\n",
              "    </tr>\n",
              "  </tbody>\n",
              "</table>\n",
              "</div>"
            ],
            "text/plain": [
              "       FECHA  positivos\n",
              "0 2020-03-06          2\n",
              "1 2020-03-07          7\n",
              "2 2020-03-08         10\n",
              "3 2020-03-09         12\n",
              "4 2020-03-10         13"
            ]
          },
          "execution_count": 35,
          "metadata": {},
          "output_type": "execute_result"
        }
      ],
      "source": [
        "#Import the data from the xlsx file only wtih the columns FECHA, positivos\n",
        "\n",
        "use = ['FECHA', 'positivos']\n",
        "data = pd.read_excel(\"CASOSCOVID.xlsx\",sheet_name=\"1_GENERAL\", usecols=use)\n",
        "data.head()"
      ]
    },
    {
      "cell_type": "code",
      "execution_count": 36,
      "metadata": {},
      "outputs": [
        {
          "data": {
            "text/plain": [
              "FECHA        0\n",
              "positivos    0\n",
              "dtype: int64"
            ]
          },
          "execution_count": 36,
          "metadata": {},
          "output_type": "execute_result"
        }
      ],
      "source": [
        "#sum the na values\n",
        "data.isna().sum()"
      ]
    },
    {
      "cell_type": "code",
      "execution_count": 37,
      "metadata": {},
      "outputs": [
        {
          "data": {
            "text/plain": [
              "FECHA        datetime64[ns]\n",
              "positivos             int64\n",
              "dtype: object"
            ]
          },
          "execution_count": 37,
          "metadata": {},
          "output_type": "execute_result"
        }
      ],
      "source": [
        "#look the data types\n",
        "data.dtypes"
      ]
    },
    {
      "cell_type": "code",
      "execution_count": 38,
      "metadata": {},
      "outputs": [],
      "source": [
        "#change the data type to datetime\n",
        "data['FECHA'] = pd.to_datetime(data['FECHA'])"
      ]
    },
    {
      "cell_type": "code",
      "execution_count": 39,
      "metadata": {},
      "outputs": [],
      "source": [
        "#extract the year and month from the datetime\n",
        "data['year'] = data['FECHA'].dt.year\n",
        "data['month'] = data['FECHA'].dt.month\n",
        "#data.drop(['dat'], axis=1, inplace=True)\n"
      ]
    },
    {
      "cell_type": "markdown",
      "metadata": {},
      "source": [
        "EDA COVID"
      ]
    },
    {
      "cell_type": "code",
      "execution_count": 40,
      "metadata": {},
      "outputs": [
        {
          "data": {
            "text/html": [
              "<div>\n",
              "<style scoped>\n",
              "    .dataframe tbody tr th:only-of-type {\n",
              "        vertical-align: middle;\n",
              "    }\n",
              "\n",
              "    .dataframe tbody tr th {\n",
              "        vertical-align: top;\n",
              "    }\n",
              "\n",
              "    .dataframe thead th {\n",
              "        text-align: right;\n",
              "    }\n",
              "</style>\n",
              "<table border=\"1\" class=\"dataframe\">\n",
              "  <thead>\n",
              "    <tr style=\"text-align: right;\">\n",
              "      <th></th>\n",
              "      <th>year</th>\n",
              "      <th>month</th>\n",
              "      <th>positivos</th>\n",
              "    </tr>\n",
              "  </thead>\n",
              "  <tbody>\n",
              "    <tr>\n",
              "      <th>0</th>\n",
              "      <td>2020</td>\n",
              "      <td>3</td>\n",
              "      <td>3104</td>\n",
              "    </tr>\n",
              "    <tr>\n",
              "      <th>1</th>\n",
              "      <td>2020</td>\n",
              "      <td>4</td>\n",
              "      <td>17866</td>\n",
              "    </tr>\n",
              "    <tr>\n",
              "      <th>2</th>\n",
              "      <td>2020</td>\n",
              "      <td>5</td>\n",
              "      <td>26697</td>\n",
              "    </tr>\n",
              "    <tr>\n",
              "      <th>3</th>\n",
              "      <td>2020</td>\n",
              "      <td>6</td>\n",
              "      <td>58319</td>\n",
              "    </tr>\n",
              "    <tr>\n",
              "      <th>4</th>\n",
              "      <td>2020</td>\n",
              "      <td>7</td>\n",
              "      <td>309536</td>\n",
              "    </tr>\n",
              "  </tbody>\n",
              "</table>\n",
              "</div>"
            ],
            "text/plain": [
              "   year  month  positivos\n",
              "0  2020      3       3104\n",
              "1  2020      4      17866\n",
              "2  2020      5      26697\n",
              "3  2020      6      58319\n",
              "4  2020      7     309536"
            ]
          },
          "execution_count": 40,
          "metadata": {},
          "output_type": "execute_result"
        }
      ],
      "source": [
        "# Data grouped by year and month COVID\n",
        "rev_monthc = data.groupby(by = [\"year\",\"month\"]).sum() \n",
        "rev_monthc.reset_index(inplace=True) \n",
        "rev_monthc.head()"
      ]
    },
    {
      "cell_type": "code",
      "execution_count": 41,
      "metadata": {},
      "outputs": [],
      "source": [
        "#chance the name of the columns\n",
        "rev_monthc.columns = ['Año','Mes','positivos']"
      ]
    },
    {
      "cell_type": "code",
      "execution_count": 42,
      "metadata": {},
      "outputs": [],
      "source": [
        "# joint the data rev_month and rev_monthc\n",
        "rev_datec = rev_month.merge(rev_monthc, on=['Año','Mes'], how='left')"
      ]
    },
    {
      "cell_type": "code",
      "execution_count": 43,
      "metadata": {},
      "outputs": [
        {
          "data": {
            "text/html": [
              "<div>\n",
              "<style scoped>\n",
              "    .dataframe tbody tr th:only-of-type {\n",
              "        vertical-align: middle;\n",
              "    }\n",
              "\n",
              "    .dataframe tbody tr th {\n",
              "        vertical-align: top;\n",
              "    }\n",
              "\n",
              "    .dataframe thead th {\n",
              "        text-align: right;\n",
              "    }\n",
              "</style>\n",
              "<table border=\"1\" class=\"dataframe\">\n",
              "  <thead>\n",
              "    <tr style=\"text-align: right;\">\n",
              "      <th></th>\n",
              "      <th>Año</th>\n",
              "      <th>Mes</th>\n",
              "      <th>Pasajeros Regulares</th>\n",
              "      <th>Carreras</th>\n",
              "      <th>Ingresos</th>\n",
              "      <th>positivos</th>\n",
              "    </tr>\n",
              "  </thead>\n",
              "  <tbody>\n",
              "    <tr>\n",
              "      <th>0</th>\n",
              "      <td>2018</td>\n",
              "      <td>10</td>\n",
              "      <td>44859810.0</td>\n",
              "      <td>1275849.95</td>\n",
              "      <td>2.006380e+10</td>\n",
              "      <td>NaN</td>\n",
              "    </tr>\n",
              "    <tr>\n",
              "      <th>1</th>\n",
              "      <td>2018</td>\n",
              "      <td>11</td>\n",
              "      <td>44605604.0</td>\n",
              "      <td>850921.25</td>\n",
              "      <td>2.033067e+10</td>\n",
              "      <td>NaN</td>\n",
              "    </tr>\n",
              "    <tr>\n",
              "      <th>2</th>\n",
              "      <td>2018</td>\n",
              "      <td>12</td>\n",
              "      <td>43803044.0</td>\n",
              "      <td>837038.18</td>\n",
              "      <td>2.101106e+10</td>\n",
              "      <td>NaN</td>\n",
              "    </tr>\n",
              "    <tr>\n",
              "      <th>3</th>\n",
              "      <td>2019</td>\n",
              "      <td>1</td>\n",
              "      <td>43089294.0</td>\n",
              "      <td>859978.35</td>\n",
              "      <td>2.060150e+10</td>\n",
              "      <td>NaN</td>\n",
              "    </tr>\n",
              "    <tr>\n",
              "      <th>4</th>\n",
              "      <td>2019</td>\n",
              "      <td>2</td>\n",
              "      <td>42692522.0</td>\n",
              "      <td>805859.45</td>\n",
              "      <td>1.957121e+10</td>\n",
              "      <td>NaN</td>\n",
              "    </tr>\n",
              "  </tbody>\n",
              "</table>\n",
              "</div>"
            ],
            "text/plain": [
              "    Año  Mes  Pasajeros Regulares    Carreras      Ingresos  positivos\n",
              "0  2018   10           44859810.0  1275849.95  2.006380e+10        NaN\n",
              "1  2018   11           44605604.0   850921.25  2.033067e+10        NaN\n",
              "2  2018   12           43803044.0   837038.18  2.101106e+10        NaN\n",
              "3  2019    1           43089294.0   859978.35  2.060150e+10        NaN\n",
              "4  2019    2           42692522.0   805859.45  1.957121e+10        NaN"
            ]
          },
          "execution_count": 43,
          "metadata": {},
          "output_type": "execute_result"
        }
      ],
      "source": [
        "rev_datec.head()"
      ]
    },
    {
      "cell_type": "code",
      "execution_count": 44,
      "metadata": {},
      "outputs": [],
      "source": [
        "#fill the na values with 0\n",
        "rev_datec = rev_datec.fillna(0)"
      ]
    },
    {
      "cell_type": "code",
      "execution_count": 45,
      "metadata": {},
      "outputs": [],
      "source": [
        "correlation = rev_datec.corr() # correlation matrix to understand the relationship between the variables\n"
      ]
    },
    {
      "cell_type": "code",
      "execution_count": 46,
      "metadata": {},
      "outputs": [
        {
          "data": {
            "text/plain": [
              "<AxesSubplot:>"
            ]
          },
          "execution_count": 46,
          "metadata": {},
          "output_type": "execute_result"
        },
        {
          "data": {
            "image/png": "[encoded data removed]",
            "text/plain": [
              "<Figure size 720x720 with 2 Axes>"
            ]
          },
          "metadata": {
            "needs_background": "light"
          },
          "output_type": "display_data"
        }
      ],
      "source": [
        "# constructing a heatmap to understand the correlation\n",
        "# Weak Correlation --> below 0.5 \n",
        "# Correlation --> 0.5 - 0.7\n",
        "# Strong Correlation --> more than 0.7\n",
        "plt.figure(figsize=(10,10))\n",
        "sns.heatmap(correlation, cbar=True, square=True, fmt='.1f', annot=True, annot_kws={'size':8}, cmap='GnBu')"
      ]
    },
    {
      "cell_type": "code",
      "execution_count": 47,
      "metadata": {},
      "outputs": [
        {
          "data": {
            "text/html": [
              "<div>\n",
              "<style scoped>\n",
              "    .dataframe tbody tr th:only-of-type {\n",
              "        vertical-align: middle;\n",
              "    }\n",
              "\n",
              "    .dataframe tbody tr th {\n",
              "        vertical-align: top;\n",
              "    }\n",
              "\n",
              "    .dataframe thead th {\n",
              "        text-align: right;\n",
              "    }\n",
              "</style>\n",
              "<table border=\"1\" class=\"dataframe\">\n",
              "  <thead>\n",
              "    <tr style=\"text-align: right;\">\n",
              "      <th></th>\n",
              "      <th>Año</th>\n",
              "      <th>Mes</th>\n",
              "      <th>Pasajeros Regulares</th>\n",
              "      <th>Carreras</th>\n",
              "      <th>Ingresos</th>\n",
              "      <th>positivos</th>\n",
              "    </tr>\n",
              "  </thead>\n",
              "  <tbody>\n",
              "    <tr>\n",
              "      <th>0</th>\n",
              "      <td>2018</td>\n",
              "      <td>10</td>\n",
              "      <td>44859810.0</td>\n",
              "      <td>1275849.95</td>\n",
              "      <td>2.006380e+10</td>\n",
              "      <td>0.0</td>\n",
              "    </tr>\n",
              "    <tr>\n",
              "      <th>1</th>\n",
              "      <td>2018</td>\n",
              "      <td>11</td>\n",
              "      <td>44605604.0</td>\n",
              "      <td>850921.25</td>\n",
              "      <td>2.033067e+10</td>\n",
              "      <td>0.0</td>\n",
              "    </tr>\n",
              "    <tr>\n",
              "      <th>2</th>\n",
              "      <td>2018</td>\n",
              "      <td>12</td>\n",
              "      <td>43803044.0</td>\n",
              "      <td>837038.18</td>\n",
              "      <td>2.101106e+10</td>\n",
              "      <td>0.0</td>\n",
              "    </tr>\n",
              "    <tr>\n",
              "      <th>3</th>\n",
              "      <td>2019</td>\n",
              "      <td>1</td>\n",
              "      <td>43089294.0</td>\n",
              "      <td>859978.35</td>\n",
              "      <td>2.060150e+10</td>\n",
              "      <td>0.0</td>\n",
              "    </tr>\n",
              "    <tr>\n",
              "      <th>4</th>\n",
              "      <td>2019</td>\n",
              "      <td>2</td>\n",
              "      <td>42692522.0</td>\n",
              "      <td>805859.45</td>\n",
              "      <td>1.957121e+10</td>\n",
              "      <td>0.0</td>\n",
              "    </tr>\n",
              "  </tbody>\n",
              "</table>\n",
              "</div>"
            ],
            "text/plain": [
              "    Año  Mes  Pasajeros Regulares    Carreras      Ingresos  positivos\n",
              "0  2018   10           44859810.0  1275849.95  2.006380e+10        0.0\n",
              "1  2018   11           44605604.0   850921.25  2.033067e+10        0.0\n",
              "2  2018   12           43803044.0   837038.18  2.101106e+10        0.0\n",
              "3  2019    1           43089294.0   859978.35  2.060150e+10        0.0\n",
              "4  2019    2           42692522.0   805859.45  1.957121e+10        0.0"
            ]
          },
          "execution_count": 47,
          "metadata": {},
          "output_type": "execute_result"
        }
      ],
      "source": [
        "rev_datec.head()"
      ]
    },
    {
      "cell_type": "code",
      "execution_count": 50,
      "metadata": {},
      "outputs": [],
      "source": [
        "#create the X and y variables\n",
        "y = rev_datec['Ingresos']\n",
        "X = rev_datec.drop(['Ingresos','Carreras','Pasajeros Regulares'], axis=1)"
      ]
    },
    {
      "cell_type": "code",
      "execution_count": 51,
      "metadata": {},
      "outputs": [
        {
          "name": "stdout",
          "output_type": "stream",
          "text": [
            "    Año  Mes  positivos\n",
            "0  2018   10        0.0\n",
            "1  2018   11        0.0\n",
            "2  2018   12        0.0\n",
            "3  2019    1        0.0\n",
            "4  2019    2        0.0\n",
            "0    2.006380e+10\n",
            "1    2.033067e+10\n",
            "2    2.101106e+10\n",
            "3    2.060150e+10\n",
            "4    1.957121e+10\n",
            "Name: Ingresos, dtype: float64\n"
          ]
        }
      ],
      "source": [
        "print(X.head())\n",
        "print(y.head())"
      ]
    },
    {
      "cell_type": "code",
      "execution_count": 52,
      "metadata": {},
      "outputs": [],
      "source": [
        "from sklearn.model_selection import train_test_split\n",
        "from sklearn.linear_model import LinearRegression\n",
        "from sklearn import metrics"
      ]
    },
    {
      "cell_type": "code",
      "execution_count": 53,
      "metadata": {},
      "outputs": [],
      "source": [
        "# Spliting the dataset into training and testing sets\n",
        "\n",
        "X_train, X_test, y_train, y_test = train_test_split(X, y, test_size = 0.25, random_state = 0)"
      ]
    },
    {
      "cell_type": "code",
      "execution_count": 54,
      "metadata": {},
      "outputs": [
        {
          "data": {
            "text/plain": [
              "LinearRegression()"
            ]
          },
          "execution_count": 54,
          "metadata": {},
          "output_type": "execute_result"
        }
      ],
      "source": [
        "#Create a linear regresion model and fit it to the training set. I use the XGBoost algorithm\n",
        "lm = LinearRegression() # loading the model\n",
        "#train the model\n",
        "lm.fit(X_train, y_train)"
      ]
    },
    {
      "cell_type": "code",
      "execution_count": 55,
      "metadata": {},
      "outputs": [
        {
          "data": {
            "text/plain": [
              "13427073901160.797"
            ]
          },
          "execution_count": 55,
          "metadata": {},
          "output_type": "execute_result"
        }
      ],
      "source": [
        "#value of the coefficients\n",
        "lm.intercept_"
      ]
    },
    {
      "cell_type": "code",
      "execution_count": 56,
      "metadata": {},
      "outputs": [
        {
          "data": {
            "text/html": [
              "<div>\n",
              "<style scoped>\n",
              "    .dataframe tbody tr th:only-of-type {\n",
              "        vertical-align: middle;\n",
              "    }\n",
              "\n",
              "    .dataframe tbody tr th {\n",
              "        vertical-align: top;\n",
              "    }\n",
              "\n",
              "    .dataframe thead th {\n",
              "        text-align: right;\n",
              "    }\n",
              "</style>\n",
              "<table border=\"1\" class=\"dataframe\">\n",
              "  <thead>\n",
              "    <tr style=\"text-align: right;\">\n",
              "      <th></th>\n",
              "      <th>Coefficient</th>\n",
              "    </tr>\n",
              "  </thead>\n",
              "  <tbody>\n",
              "    <tr>\n",
              "      <th>Año</th>\n",
              "      <td>-6.639796e+09</td>\n",
              "    </tr>\n",
              "    <tr>\n",
              "      <th>Mes</th>\n",
              "      <td>-4.747613e+08</td>\n",
              "    </tr>\n",
              "    <tr>\n",
              "      <th>positivos</th>\n",
              "      <td>3.829386e+02</td>\n",
              "    </tr>\n",
              "  </tbody>\n",
              "</table>\n",
              "</div>"
            ],
            "text/plain": [
              "            Coefficient\n",
              "Año       -6.639796e+09\n",
              "Mes       -4.747613e+08\n",
              "positivos  3.829386e+02"
            ]
          },
          "execution_count": 56,
          "metadata": {},
          "output_type": "execute_result"
        }
      ],
      "source": [
        "#Convert the coefficients to a data frame and display it\n",
        "coeff_df = pd.DataFrame(lm.coef_, X.columns, columns=['Coefficient'])\n",
        "coeff_df.head()"
      ]
    },
    {
      "cell_type": "code",
      "execution_count": 57,
      "metadata": {},
      "outputs": [
        {
          "data": {
            "text/html": [
              "<div>\n",
              "<style scoped>\n",
              "    .dataframe tbody tr th:only-of-type {\n",
              "        vertical-align: middle;\n",
              "    }\n",
              "\n",
              "    .dataframe tbody tr th {\n",
              "        vertical-align: top;\n",
              "    }\n",
              "\n",
              "    .dataframe thead th {\n",
              "        text-align: right;\n",
              "    }\n",
              "</style>\n",
              "<table border=\"1\" class=\"dataframe\">\n",
              "  <thead>\n",
              "    <tr style=\"text-align: right;\">\n",
              "      <th></th>\n",
              "      <th>Attribute</th>\n",
              "      <th>Coefficients</th>\n",
              "    </tr>\n",
              "  </thead>\n",
              "  <tbody>\n",
              "    <tr>\n",
              "      <th>0</th>\n",
              "      <td>Año</td>\n",
              "      <td>-6639796044.427677</td>\n",
              "    </tr>\n",
              "    <tr>\n",
              "      <th>1</th>\n",
              "      <td>Mes</td>\n",
              "      <td>-474761330.872944</td>\n",
              "    </tr>\n",
              "    <tr>\n",
              "      <th>2</th>\n",
              "      <td>positivos</td>\n",
              "      <td>382.938575</td>\n",
              "    </tr>\n",
              "  </tbody>\n",
              "</table>\n",
              "</div>"
            ],
            "text/plain": [
              "   Attribute       Coefficients\n",
              "0        Año -6639796044.427677\n",
              "1        Mes  -474761330.872944\n",
              "2  positivos         382.938575"
            ]
          },
          "execution_count": 57,
          "metadata": {},
          "output_type": "execute_result"
        }
      ],
      "source": [
        "#Converting the coefficient values to a dataframe\n",
        "coeffcients = pd.DataFrame([X_train.columns,lm.coef_]).T\n",
        "coeffcients = coeffcients.rename(columns={0: 'Attribute', 1: 'Coefficients'})\n",
        "coeffcients"
      ]
    },
    {
      "cell_type": "code",
      "execution_count": 58,
      "metadata": {},
      "outputs": [],
      "source": [
        "# Model prediction on train data\n",
        "y_pred = lm.predict(X_train)"
      ]
    },
    {
      "cell_type": "code",
      "execution_count": 59,
      "metadata": {},
      "outputs": [
        {
          "data": {
            "text/plain": [
              "array([1.12296355e+10, 1.18596560e+10, 1.37363688e+10, 1.75275968e+10,\n",
              "       9.07321714e+09])"
            ]
          },
          "execution_count": 59,
          "metadata": {},
          "output_type": "execute_result"
        }
      ],
      "source": [
        "# Model prediction on test data\n",
        "y_pred_test = lm.predict(X_test)\n",
        "# show the first 5 predicted values\n",
        "y_pred_test[:5]"
      ]
    },
    {
      "cell_type": "code",
      "execution_count": 60,
      "metadata": {},
      "outputs": [
        {
          "name": "stdout",
          "output_type": "stream",
          "text": [
            "R^2: 0.7260458221766155\n",
            "Adjusted R^2: 0.6903126685474784\n",
            "MAE: 2371682881.3167977\n",
            "MSE: 8.311853287856544e+18\n",
            "RMSE: 2883028492.376817\n"
          ]
        }
      ],
      "source": [
        "# Model Evaluation\n",
        "print('R^2:',metrics.r2_score(y_train, y_pred))\n",
        "print('Adjusted R^2:',1 - (1-metrics.r2_score(y_train, y_pred))*(len(y_train)-1)/(len(y_train)-X_train.shape[1]-1))\n",
        "print('MAE:',metrics.mean_absolute_error(y_train, y_pred))\n",
        "print('MSE:',metrics.mean_squared_error(y_train, y_pred))\n",
        "print('RMSE:',np.sqrt(metrics.mean_squared_error(y_train, y_pred)))"
      ]
    },
    {
      "cell_type": "code",
      "execution_count": 65,
      "metadata": {},
      "outputs": [
        {
          "name": "stdout",
          "output_type": "stream",
          "text": [
            "R^2: 0.6149776276071022\n"
          ]
        }
      ],
      "source": [
        "# Model Evaluation on test data\n",
        "print('R^2:',metrics.r2_score(y_test, y_pred_test))"
      ]
    },
    {
      "cell_type": "code",
      "execution_count": null,
      "metadata": {},
      "outputs": [],
      "source": [
        "#create a df to test the model\n"
      ]
    }
  ],
  "metadata": {
    "colab": {
      "collapsed_sections": [],
      "name": "Weekend 11 - Project.ipynb",
      "provenance": []
    },
    "kernelspec": {
      "display_name": "Python 3",
      "name": "python3"
    },
    "language_info": {
      "codemirror_mode": {
        "name": "ipython",
        "version": 3
      },
      "file_extension": ".py",
      "mimetype": "text/x-python",
      "name": "python",
      "nbconvert_exporter": "python",
      "pygments_lexer": "ipython3",
      "version": "3.8.8"
    }
  },
  "nbformat": 4,
  "nbformat_minor": 0
}
